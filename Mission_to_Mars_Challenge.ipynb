{
 "cells": [
  {
   "cell_type": "code",
   "execution_count": null,
   "id": "b7ebda8d",
   "metadata": {},
   "outputs": [],
   "source": [
    "# 10.3.3 Scrape Mars Data: The News\n",
    "\n",
    "#Import Splinter and BeautifulSoup\n",
    "from splinter import Browser\n",
    "from bs4 import BeautifulSoup as soup\n",
    "from webdriver_manager.chrome import ChromeDriverManager\n",
    "\n",
    "# 10.3.5 Import Pandas\n",
    "import pandas as pd"
   ]
  },
  {
   "cell_type": "code",
   "execution_count": null,
   "id": "11a2a0a2",
   "metadata": {},
   "outputs": [],
   "source": [
    "# Set up executable path\n",
    "executable_path = {'executable_path': ChromeDriverManager().install()}\n",
    "\n",
    "# Set up the URL for scraping\n",
    "browser = Browser('chrome', **executable_path, headless=False)"
   ]
  },
  {
   "cell_type": "code",
   "execution_count": null,
   "id": "661ad66c",
   "metadata": {},
   "outputs": [],
   "source": [
    "# Visit the Mars NASA news site\n",
    "url = 'https://redplanetscience.com'\n",
    "browser.visit(url)\n",
    "\n",
    "# Add an optional delay for loading the page\n",
    "browser.is_element_present_by_css('div.list_test', wait_time=1)"
   ]
  },
  {
   "cell_type": "code",
   "execution_count": null,
   "id": "381f37a4",
   "metadata": {},
   "outputs": [],
   "source": [
    "# Set up the HTML parser\n",
    "html = browser.html\n",
    "news_soup = soup(html, 'html.parser')\n",
    "slide_elem = news_soup.select_one('div.list_text')"
   ]
  },
  {
   "cell_type": "code",
   "execution_count": null,
   "id": "cf329f03",
   "metadata": {},
   "outputs": [],
   "source": [
    "# Begin scraping the site\n",
    "slide_elem.find('div', class_='content_title')"
   ]
  },
  {
   "cell_type": "markdown",
   "id": "23d80131",
   "metadata": {},
   "source": [
    "### Title"
   ]
  },
  {
   "cell_type": "code",
   "execution_count": null,
   "id": "6ed0a305",
   "metadata": {},
   "outputs": [],
   "source": [
    "# Use the parent element to find the first `a` tag and save it\n",
    "## as `news_title`\n",
    "news_title = slide_elem.find('div', class_='content_title').get_text()\n",
    "news_title\n"
   ]
  },
  {
   "cell_type": "markdown",
   "id": "cc4e3beb",
   "metadata": {},
   "source": [
    "### Paragraph Text"
   ]
  },
  {
   "cell_type": "code",
   "execution_count": null,
   "id": "4b967fda",
   "metadata": {},
   "outputs": [],
   "source": [
    "# Use the parent element to find the paragraph text\n",
    "news_p = slide_elem.find('div', class_='article_teaser_body').get_text()\n",
    "news_p"
   ]
  },
  {
   "cell_type": "markdown",
   "id": "227978e4",
   "metadata": {},
   "source": [
    "### Featured Images"
   ]
  },
  {
   "cell_type": "code",
   "execution_count": null,
   "id": "60dc4b20",
   "metadata": {},
   "outputs": [],
   "source": [
    "# 10.3.4 Visit the Space Images Mars site\n",
    "url = 'https://spaceimages-mars.com'\n",
    "browser.visit(url)"
   ]
  },
  {
   "cell_type": "code",
   "execution_count": null,
   "id": "f1c7bdfa",
   "metadata": {},
   "outputs": [],
   "source": [
    "# Find and click the full image button - indexing direct browser to click\n",
    "## second button [1]\n",
    "full_image_elem = browser.find_by_tag('button')[1]\n",
    "full_image_elem.click()"
   ]
  },
  {
   "cell_type": "code",
   "execution_count": null,
   "id": "0406626a",
   "metadata": {},
   "outputs": [],
   "source": [
    "# Parse the resulting HTML with soup\n",
    "html = browser.html\n",
    "img_soup = soup(html, 'html.parser')"
   ]
  },
  {
   "cell_type": "code",
   "execution_count": null,
   "id": "b2e01666",
   "metadata": {},
   "outputs": [],
   "source": [
    "# Find the relative image url\n",
    "img_url_rel = img_soup.find('img', class_='fancybox-image').get('src')\n",
    "img_url_rel"
   ]
  },
  {
   "cell_type": "code",
   "execution_count": null,
   "id": "2a0badbd",
   "metadata": {},
   "outputs": [],
   "source": [
    "# Use the base URL to create an absolute URL\n",
    "img_url = f'https://spaceimages-mars.com/{img_url_rel}'\n",
    "img_url"
   ]
  },
  {
   "cell_type": "markdown",
   "id": "c19e1274",
   "metadata": {},
   "source": [
    "### Mars Planet Profile"
   ]
  },
  {
   "cell_type": "code",
   "execution_count": null,
   "id": "822686cd",
   "metadata": {},
   "outputs": [],
   "source": [
    "# 10.3.5 Scrape the \"Mars Planet Profile\" table from HTML with Pandas\n",
    "df = pd.read_htmldf = pd.read_html('https://galaxyfacts-mars.com')[0]\n",
    "df.columns=['description', 'Mars', 'Earth']\n",
    "df.set_index('description', inplace=True)\n",
    "df"
   ]
  },
  {
   "cell_type": "code",
   "execution_count": null,
   "id": "436d95f6",
   "metadata": {},
   "outputs": [],
   "source": [
    "# Use Pandas .to_html function to convert the DataFrame back into HTML-ready\n",
    "## code\n",
    "df.to_html()"
   ]
  },
  {
   "cell_type": "markdown",
   "id": "0db88d48",
   "metadata": {},
   "source": [
    "## Module 10 Challenge - Mars Hemispheres Images"
   ]
  },
  {
   "cell_type": "code",
   "execution_count": null,
   "id": "2f8c289e",
   "metadata": {},
   "outputs": [],
   "source": [
    "# 1. Use browser to visit the URL \n",
    "url = 'https://marshemispheres.com/'\n",
    "\n",
    "browser.visit(url)"
   ]
  },
  {
   "cell_type": "code",
   "execution_count": null,
   "id": "83179e0d",
   "metadata": {},
   "outputs": [],
   "source": [
    "# 2. Create a list to hold the images and titles.\n",
    "hemisphere_image_urls = []\n",
    "\n",
    "# 3. Write code to retrieve the image urls and titles for each hemisphere.\n",
    "\n",
    "# STEPS FROM HINT\n",
    "# 1H. Find the HTML tag that holds all the links to the full-resolution images\n",
    "# tag is 'h3'\n",
    "\n",
    "#2 Using a for loop, iterate through the tags\n",
    "for title, url in hemisphere_image_urls():\n",
    "    # Create an empty dictionary inside the for loop\n",
    "    hemispheres = {}\n",
    "    \n",
    "    \n",
    "    # Click on each hemisphere link\n",
    "    browser.find_by_tag('h3')\n",
    "    click()\n",
    "\n",
    "    # Navigate to the full resolution image page\n",
    "    # Isn't this the same as the step above?\n",
    "    \n",
    "    # Retrieve the full-resolution image URL string and title for the hemisphere image\n",
    "    # Title\n",
    "    browser.find_by_tag('h2', class_=title)\n",
    "    # Image URL\n",
    "    browser.find_by_tag('a', target_=_blank).get('href')\n",
    "    \n",
    "    # Use browser.back to begin next iteration    \n",
    "    browser.back"
   ]
  },
  {
   "cell_type": "code",
   "execution_count": null,
   "id": "dabcd944",
   "metadata": {},
   "outputs": [],
   "source": [
    "# 4. Print the list that holds the dictionary of each image url and title.\n",
    "hemisphere_image_urls"
   ]
  },
  {
   "cell_type": "code",
   "execution_count": null,
   "id": "04431b6f",
   "metadata": {},
   "outputs": [],
   "source": [
    "# End Browser session\n",
    "# browser.quit()"
   ]
  }
 ],
 "metadata": {
  "kernelspec": {
   "display_name": "PythonData",
   "language": "python",
   "name": "pythondata"
  },
  "language_info": {
   "codemirror_mode": {
    "name": "ipython",
    "version": 3
   },
   "file_extension": ".py",
   "mimetype": "text/x-python",
   "name": "python",
   "nbconvert_exporter": "python",
   "pygments_lexer": "ipython3",
   "version": "3.7.10"
  }
 },
 "nbformat": 4,
 "nbformat_minor": 5
}
